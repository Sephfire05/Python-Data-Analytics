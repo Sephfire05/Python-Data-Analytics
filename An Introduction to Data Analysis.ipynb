{
 "cells": [
  {
   "cell_type": "markdown",
   "metadata": {},
   "source": [
    "## The Data analysis process"
   ]
  },
  {
   "cell_type": "markdown",
   "metadata": {},
   "source": [
    "1. Problem Definition\n",
    "2. Data Extraction\n",
    "3. Data Preparation\n",
    "4. Data Exploration/Visualization\n",
    "5. Predictive Modeling\n",
    "6. Model Validation\n",
    "7. Deployment"
   ]
  },
  {
   "cell_type": "markdown",
   "metadata": {},
   "source": [
    "## Open Data "
   ]
  },
  {
   "cell_type": "markdown",
   "metadata": {},
   "source": [
    "Open Data here:\n",
    "* DataHub\n",
    "* World Health Organization\n",
    "* Data.gov\n",
    "* European Union Open Data Portal\n",
    "* Amazon Web Service public datasets\n",
    "* Facebook Graph\n",
    "* Healthdata.gov\n",
    "* Google Trends\n",
    "* Google Finance\n",
    "* Google Books Ngrams\n",
    "* Machine Learning Repository"
   ]
  },
  {
   "cell_type": "code",
   "execution_count": null,
   "metadata": {},
   "outputs": [],
   "source": []
  }
 ],
 "metadata": {
  "kernelspec": {
   "display_name": "Python 3",
   "language": "python",
   "name": "python3"
  },
  "language_info": {
   "codemirror_mode": {
    "name": "ipython",
    "version": 3
   },
   "file_extension": ".py",
   "mimetype": "text/x-python",
   "name": "python",
   "nbconvert_exporter": "python",
   "pygments_lexer": "ipython3",
   "version": "3.7.1"
  }
 },
 "nbformat": 4,
 "nbformat_minor": 2
}
